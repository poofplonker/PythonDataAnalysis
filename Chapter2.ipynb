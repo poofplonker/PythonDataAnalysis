{
 "cells": [
  {
   "cell_type": "markdown",
   "metadata": {},
   "source": [
    "# Chapter 2: Introduction to Pandas"
   ]
  },
  {
   "cell_type": "code",
   "execution_count": 21,
   "metadata": {
    "collapsed": false
   },
   "outputs": [],
   "source": [
    "%matplotlib inline\n",
    "from pandas import DataFrame, Series\n",
    "import pandas as pd"
   ]
  },
  {
   "cell_type": "markdown",
   "metadata": {},
   "source": [
    "## Lets import some data"
   ]
  },
  {
   "cell_type": "code",
   "execution_count": 12,
   "metadata": {
    "collapsed": false
   },
   "outputs": [
    {
     "name": "stderr",
     "output_type": "stream",
     "text": [
      "/Users/alisonglenny/anaconda/lib/python2.7/site-packages/ipykernel/__main__.py:5: ParserWarning: Falling back to the 'python' engine because the 'c' engine does not support regex separators (separators > 1 char and different from '\\s+' are interpreted as regex); you can avoid this warning by specifying engine='python'.\n",
      "/Users/alisonglenny/anaconda/lib/python2.7/site-packages/ipykernel/__main__.py:10: ParserWarning: Falling back to the 'python' engine because the 'c' engine does not support regex separators (separators > 1 char and different from '\\s+' are interpreted as regex); you can avoid this warning by specifying engine='python'.\n",
      "/Users/alisonglenny/anaconda/lib/python2.7/site-packages/ipykernel/__main__.py:15: ParserWarning: Falling back to the 'python' engine because the 'c' engine does not support regex separators (separators > 1 char and different from '\\s+' are interpreted as regex); you can avoid this warning by specifying engine='python'.\n"
     ]
    }
   ],
   "source": [
    "path = './ml-1m/'\n",
    "\n",
    "#Read users\n",
    "unames = ['user_id','gender','age','occupation', 'zip']\n",
    "users = pd.read_table(path + 'users.dat',sep='::',header=None, names=unames)\n",
    "\n",
    "#Read ratings\n",
    "rnames = ['user_id', 'movie_id', 'rating', 'timestamp']\n",
    "ratings = pd.read_table(path+'ratings.dat', sep='::', header=None,\n",
    "names=rnames)\n",
    "\n",
    "#Read movies\n",
    "mnames = ['movie_id', 'title', 'genres']\n",
    "movies = pd.read_table(path+ 'movies.dat', sep='::', header=None,\n",
    "names=mnames)"
   ]
  },
  {
   "cell_type": "markdown",
   "metadata": {},
   "source": [
    "Lets do some things that were done on the previous dataset. Starting by counting some shit. Value Counts results in a series that we can plot. "
   ]
  },
  {
   "cell_type": "code",
   "execution_count": 22,
   "metadata": {
    "collapsed": false
   },
   "outputs": [
    {
     "data": {
      "text/plain": [
       "<matplotlib.axes._subplots.AxesSubplot at 0x11318ab10>"
      ]
     },
     "execution_count": 22,
     "metadata": {},
     "output_type": "execute_result"
    },
    {
     "data": {
      "image/png": "[encoded data removed]",
      "text/plain": [
       "<matplotlib.figure.Figure at 0x113198210>"
      ]
     },
     "metadata": {},
     "output_type": "display_data"
    }
   ],
   "source": [
    "result = users['gender'].value_counts()\n",
    "result.plot(kind='barh',rot=0)"
   ]
  },
  {
   "cell_type": "markdown",
   "metadata": {},
   "source": [
    "Haha, that provided no extra information. I want a report on if we have any missing information. "
   ]
  },
  {
   "cell_type": "code",
   "execution_count": 30,
   "metadata": {
    "collapsed": false
   },
   "outputs": [
    {
     "data": {
      "text/plain": [
       "4     759\n",
       "0     711\n",
       "7     679\n",
       "1     528\n",
       "17    502\n",
       "12    388\n",
       "14    302\n",
       "20    281\n",
       "2     267\n",
       "16    241\n",
       "6     236\n",
       "10    195\n",
       "3     173\n",
       "15    144\n",
       "13    142\n",
       "11    129\n",
       "5     112\n",
       "9      92\n",
       "19     72\n",
       "18     70\n",
       "8      17\n",
       "Name: occupation, dtype: int64"
      ]
     },
     "execution_count": 30,
     "metadata": {},
     "output_type": "execute_result"
    }
   ],
   "source": [
    "users.describe()\n",
    "users['zip'].value_counts()\n",
    "users['occupation'].value_counts()"
   ]
  },
  {
   "cell_type": "code",
   "execution_count": 47,
   "metadata": {
    "collapsed": false
   },
   "outputs": [
    {
     "data": {
      "text/plain": [
       "Drama          1176\n",
       "Comedy         1024\n",
       "Action          503\n",
       "Horror          262\n",
       "Adventure       155\n",
       "Crime           131\n",
       "Documentary     123\n",
       "Thriller        101\n",
       "Animation        90\n",
       "Children's       89\n",
       "Romance          50\n",
       "Sci-Fi           46\n",
       "Mystery          36\n",
       "Western          33\n",
       "Musical          25\n",
       "Film-Noir        25\n",
       "War              12\n",
       "Fantasy           2\n",
       "dtype: int64"
      ]
     },
     "execution_count": 47,
     "metadata": {},
     "output_type": "execute_result"
    }
   ],
   "source": [
    "first_genre = Series(str(x).split('|')[0] for x in movies.genres)\n",
    "first_genre.value_counts()"
   ]
  },
  {
   "cell_type": "code",
   "execution_count": 38,
   "metadata": {
    "collapsed": false
   },
   "outputs": [
    {
     "data": {
      "text/plain": [
       "dtype('O')"
      ]
     },
     "execution_count": 38,
     "metadata": {},
     "output_type": "execute_result"
    }
   ],
   "source": []
  },
  {
   "cell_type": "code",
   "execution_count": null,
   "metadata": {
    "collapsed": true
   },
   "outputs": [],
   "source": []
  }
 ],
 "metadata": {
  "anaconda-cloud": {},
  "kernelspec": {
   "display_name": "Python [conda root]",
   "language": "python",
   "name": "conda-root-py"
  },
  "language_info": {
   "codemirror_mode": {
    "name": "ipython",
    "version": 2
   },
   "file_extension": ".py",
   "mimetype": "text/x-python",
   "name": "python",
   "nbconvert_exporter": "python",
   "pygments_lexer": "ipython2",
   "version": "2.7.12"
  }
 },
 "nbformat": 4,
 "nbformat_minor": 1
}
